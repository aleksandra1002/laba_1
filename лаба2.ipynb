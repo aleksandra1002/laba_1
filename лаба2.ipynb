{
 "cells": [
  {
   "cell_type": "markdown",
   "metadata": {},
   "source": [
    "<big><big>**Лабораторная работа по теме: \"Асинхронное выполнение кода\"**</big></big>"
   ]
  },
  {
   "cell_type": "markdown",
   "metadata": {},
   "source": [
    "<big>Цель - ознакомиться с особенностями реализации асинхронного программирования в Python</big>"
   ]
  },
  {
   "cell_type": "markdown",
   "metadata": {},
   "source": [
    "<big>Задача:</big>\n",
    "\n",
    "<big>Реализовать простой асинхронно работающий сервер с возможностью множественного подключения, который в качестве запросов будет принимать последовательность символов длиной до 20 символов и возвращать ответ: является ли эта последовательность символов - последовательностью ДНК.</big>"
   ]
  },
  {
   "cell_type": "markdown",
   "metadata": {},
   "source": [
    "1. Проверка последовательности"
   ]
  },
  {
   "cell_type": "code",
   "execution_count": 3,
   "metadata": {},
   "outputs": [
    {
     "name": "stdout",
     "output_type": "stream",
     "text": [
      "Defaulting to user installation because normal site-packages is not writeable\n",
      "Requirement already satisfied: biopython in c:\\users\\sasha\\appdata\\local\\packages\\pythonsoftwarefoundation.python.3.12_qbz5n2kfra8p0\\localcache\\local-packages\\python312\\site-packages (1.85)\n",
      "Requirement already satisfied: numpy in c:\\users\\sasha\\appdata\\local\\packages\\pythonsoftwarefoundation.python.3.12_qbz5n2kfra8p0\\localcache\\local-packages\\python312\\site-packages (from biopython) (2.1.1)\n",
      "Note: you may need to restart the kernel to use updated packages.\n"
     ]
    },
    {
     "name": "stderr",
     "output_type": "stream",
     "text": [
      "\n",
      "[notice] A new release of pip is available: 25.0 -> 25.0.1\n",
      "[notice] To update, run: C:\\Users\\sasha\\AppData\\Local\\Microsoft\\WindowsApps\\PythonSoftwareFoundation.Python.3.12_qbz5n2kfra8p0\\python.exe -m pip install --upgrade pip\n"
     ]
    }
   ],
   "source": [
    "pip install biopython"
   ]
  },
  {
   "cell_type": "code",
   "execution_count": 5,
   "metadata": {},
   "outputs": [],
   "source": [
    "from Bio.Seq import Seq\n"
   ]
  },
  {
   "cell_type": "code",
   "execution_count": 10,
   "metadata": {},
   "outputs": [],
   "source": [
    "class DNASequenceValidator:\n",
    "    \"\"\"Класс для проверки валидности последовательности ДНК с учётом символов IUPAC.\"\"\"\n",
    "    def is_valid_dna_sequence(sequence):\n",
    "        \"\"\"Проверяет, является ли последовательность допустимой ДНК.\"\"\"\n",
    "        # Допустимые символы IUPAC для ДНК (включая строчные буквы)\n",
    "        valid_chars = set(\"ACGTURYSWKMBDHVN\")\n",
    "        return all(char in valid_chars for char in sequence)\n"
   ]
  },
  {
   "cell_type": "code",
   "execution_count": 11,
   "metadata": {},
   "outputs": [],
   "source": [
    "import asyncio\n",
    "import socket\n",
    "from asyncio import AbstractEventLoop\n",
    "async def echo(connection: socket,\n",
    "    loop: AbstractEventLoop) -> None:\n",
    "    while data := await loop.sock_recv(connection, 1024):\n",
    "        await loop.sock_sendall(connection, data)\n",
    "async def listen_for_connection(server_socket: socket,\n",
    "    loop: AbstractEventLoop):\n",
    "    while True:\n",
    "        connection, address = await loop.sock_accept(server_socket)\n",
    "        connection.setblocking(False)\n",
    "        print(f\"Получен запрос на подключение от {address}\")\n",
    "        asyncio.create_task(echo(connection, loop))\n",
    "\n",
    "async def main():\n",
    "    server_socket = socket.socket(socket.AF_INET, socket.SOCK_STREAM)\n",
    "    server_socket.setsockopt(socket.SOL_SOCKET, socket.SO_REUSEADDR, 1)\n",
    "    server_address = ('127.0.0.1', 8000)\n",
    "    server_socket.setblocking(False)\n",
    "    server_socket.bind(server_address)\n",
    "    server_socket.listen()\n",
    "    await listen_for_connection(server_socket, asyncio.get_event_loop())\n",
    "    asyncio.run(main())"
   ]
  },
  {
   "cell_type": "markdown",
   "metadata": {},
   "source": [
    "2. Создание эхо-сервера, который дублирует ввод."
   ]
  },
  {
   "cell_type": "code",
   "execution_count": null,
   "metadata": {},
   "outputs": [],
   "source": [
    "import socket\n",
    "# с помощью функции socket создается сокет\n",
    "\n",
    "# socket.AF_INET, – тип адреса - имя хоста и номер порта, socket.SOCK_STREAM - будет использоваться протокол TCP\n",
    "server_socket = socket.socket(socket.AF_INET, socket.SOCK_STREAM)\n",
    "\n",
    "# установка флага SO_REUSEADDR в 1. Это позволит повторно использовать номер порта.\n",
    "server_socket.setsockopt(socket.SOL_SOCKET, socket.SO_REUSEADDR, 1)\n",
    "\n",
    "# привяжем сокет к адресу своего собственного компьютера 127.0.0.1 и выберем порт 34561\n",
    "server_address = ('127.0.0.1', 34561)\n",
    "\n",
    "# Теперь у сокета есть адрес – 127.0.0.1:34561\n",
    "server_socket.bind(server_address)\n",
    "\n",
    "# чтобы прослушивать запросы от клиентов, желающих подключиться к нашему серверу\n",
    "server_socket.listen()\n",
    "\n",
    "try:\n",
    "    # ждем запроса на подключение с помощью метода accept. Этот метод блокирует программу до получения запроса, после чего возвращает объект подключения и адрес подключившегося клиента\n",
    "    connection, client_address = server_socket.accept()\n",
    "    print(f'Получен запрос на подключение от {client_address}!')\n",
    "    buffer = b''\n",
    "    while buffer[-2:] != b'\\r\\n':\n",
    "        #  метод recv, который позволяет получать данные из сокета. Метод принимает целое число, показывающее, сколько байтов мы хотим прочитать.\n",
    "        data = connection.recv(2) # зададим размер буфера заведомо малым.\n",
    "        # Получив запрос, мы пытаемся принять два байта и сохранить их в буфере\n",
    "        # Затем входим в цикл и на каждой итерации проверяем, заканчивается ли буфер символами возврата каретки и перевода строки.\n",
    "        if not data:\n",
    "            break\n",
    "        else:\n",
    "            print(f'Получены данные: {data}!')\n",
    "            buffer = buffer + data\n",
    "            \n",
    "    # После получения '\\r\\n' мы выходим из цикла и печатаем все сообщение, полученное от клиента        \n",
    "    print(f\"Все данные: {buffer}\")\n",
    "\n",
    "    #  метод sendall принимает сообщение и отправляет его клиенту.\n",
    "    connection.sendall(buffer)\n",
    "#  закрываем серверный сокет в блоке finally. Таким образом, соединение будет гарантированно закрыто    \n",
    "finally:\n",
    "    server_socket.close()"
   ]
  },
  {
   "attachments": {
    "image.png": {
     "image/png": "[encoded data removed]"
    }
   },
   "cell_type": "markdown",
   "metadata": {},
   "source": [
    "![image.png](attachment:image.png)"
   ]
  },
  {
   "attachments": {
    "image.png": {
     "image/png": "[encoded data removed]"
    }
   },
   "cell_type": "markdown",
   "metadata": {},
   "source": [
    "![image.png](attachment:image.png)"
   ]
  },
  {
   "attachments": {
    "image.png": {
     "image/png": "[encoded data removed]"
    }
   },
   "cell_type": "markdown",
   "metadata": {},
   "source": [
    "![image.png](attachment:image.png)"
   ]
  },
  {
   "attachments": {
    "image.png": {
     "image/png": "[encoded data removed]"
    }
   },
   "cell_type": "markdown",
   "metadata": {},
   "source": [
    "![image.png](attachment:image.png)"
   ]
  },
  {
   "cell_type": "markdown",
   "metadata": {},
   "source": [
    "3. "
   ]
  },
  {
   "cell_type": "code",
   "execution_count": null,
   "metadata": {},
   "outputs": [],
   "source": [
    "import asyncio\n",
    "import socket\n",
    "import signal\n",
    "from asyncio import AbstractEventLoop\n",
    "from typing import List\n",
    "\n",
    "class GracefulExit(SystemExit):\n",
    "    # Определяет собственное исключение GracefulExit, которое будет использоваться для корректной остановки сервера.\n",
    "    pass\n",
    "\n",
    "async def shutdown(loop: AbstractEventLoop):\n",
    "\n",
    "    \"\"\"Функция завершения работы сервера.\"\"\"\n",
    "\n",
    "    print(\"\\nПолучен сигнал завершения. Остановка сервера...\")\n",
    "\n",
    "    # Собирает все активные асинхронные задачи - asyncio.all_tasks()\n",
    "    tasks = [t for t in asyncio.all_tasks() if t is not asyncio.current_task()] \n",
    "    for task in tasks:\n",
    "        # Отправляет каждой задаче команду на отмену (task.cancel()).\n",
    "        task.cancel()\n",
    "    # Ждет завершения всех задач (asyncio.gather())    \n",
    "    await asyncio.gather(*tasks, return_exceptions=True) # tasks - список всех задач кроме текущей, return_exceptions=True позволяет игнорировать исключения при отмене задач\n",
    "\n",
    "    # Останавливает цикл событий\n",
    "    loop.stop()\n",
    "\n",
    "# Создадим сопрограмму echo, отвечающую за обработку данных, связанных с одним подключением. Получив данные, она будет отправлять их копию обратно клиенту.\n",
    "async def echo(connection: socket.socket, loop: AbstractEventLoop) -> None: # socket.socket сокет клиента, AbstractEventLoop - цикл событий\n",
    "    \"\"\"Обрабатывает клиента и эхо-ответ.\"\"\"\n",
    "    while data := await loop.sock_recv(connection, 1024): # sock_recv ждет поступления байтов в сокет. \n",
    "        await loop.sock_sendall(connection, data) # sock_sendall принимает сокет и данные, которые нужно отправить, после чего ждет, пока все данные будут отправлены\n",
    "\n",
    "async def listen_for_connection(server_socket: socket.socket, loop: AbstractEventLoop):\n",
    "\n",
    "    \"\"\"Ожидает входящие подключения.\"\"\"\n",
    "    while True:\n",
    "\n",
    "\n",
    "        connection, address = await loop.sock_accept(server_socket) # возвращает кортеж (структуру данных, в которой хранится упорядоченная последовательность значений), состоящий из сокета и адреса клиента.\n",
    "        connection.setblocking(False) # отключение блокировки для других клиентов\n",
    "        print(f\"Получен запрос на подключение от {address}\")\n",
    "\n",
    "        # После получения запроса на подключение создаем задачу echo, ожидающую данные от клиента\n",
    "        asyncio.create_task(echo(connection, loop))\n",
    "\n",
    "async def close_echo_tasks(echo_tasks: List[asyncio.Task]):\n",
    "    \"\"\"Закрывает все задачи с клиентами корректно.\"\"\"\n",
    "    # мы принимаем список задач echo и обертываем каждую из них задачей wait_for с двухсекундным тайм-аутом\n",
    "\n",
    "    waiters = [asyncio.wait_for(task, 2) for task in echo_tasks]\n",
    "    for task in waiters:\n",
    "        try:\n",
    "            await task # ожидаем все обернутые задачи с помощью await\n",
    "        except asyncio.exceptions.TimeoutError:\n",
    "            pass  # Игнорируем таймаут при завершении\n",
    "\n",
    "async def main():\n",
    "    \"\"\"Основная функция сервера.\"\"\"\n",
    "    server_socket = socket.socket(socket.AF_INET, socket.SOCK_STREAM)\n",
    "    server_socket.setsockopt(socket.SOL_SOCKET, socket.SO_REUSEADDR, 1) # функция, чтобы избежать проблем с повторным запуском\n",
    "    server_socket.setblocking(False) # неблокирующий\n",
    "    server_socket.bind(('127.0.0.1', 34561)) # привязывает сервер 127.0.0.1:34561\n",
    "    server_socket.listen() # слушает входящие подключения\n",
    "\n",
    "    loop = asyncio.get_running_loop() # текущий цикл\n",
    "\n",
    "    print(\"Сервер запущен на 127.0.0.1:3451\")\n",
    "\n",
    "    # Ожидание ввода пользователя для завершения\n",
    "    stop_event = asyncio.Event()\n",
    "    asyncio.create_task(listen_for_connection(server_socket, loop)) # запуск функции listen_for_connection(), чтобы обрабатывать клиентов\n",
    "    try:\n",
    "        await stop_event.wait()  # Ждет, пока не будет вызван shutdown\n",
    "    except asyncio.CancelledError:\n",
    "        pass\n",
    "    finally:\n",
    "        # закрывает сокет и вызывает shutdown()\n",
    "        server_socket.close()\n",
    "        await shutdown(loop)\n",
    "\n",
    "if __name__ == \"__main__\":\n",
    "    loop = asyncio.new_event_loop()\n",
    "    asyncio.set_event_loop(loop)\n",
    "\n",
    "    try:\n",
    "        loop.run_until_complete(main())\n",
    "    except KeyboardInterrupt:\n",
    "        print(\"\\nОстановка сервера...\")\n",
    "        loop.run_until_complete(shutdown(loop))\n",
    "    finally:\n",
    "        loop.close()\n",
    "        print(\"Сервер остановлен.\")"
   ]
  },
  {
   "attachments": {
    "image.png": {
     "image/png": "[encoded data removed]"
    }
   },
   "cell_type": "markdown",
   "metadata": {},
   "source": [
    "![image.png](attachment:image.png)"
   ]
  },
  {
   "attachments": {
    "image.png": {
     "image/png": "[encoded data removed]"
    }
   },
   "cell_type": "markdown",
   "metadata": {},
   "source": [
    "![image.png](attachment:image.png)"
   ]
  },
  {
   "attachments": {
    "image.png": {
     "image/png": "[encoded data removed]"
    }
   },
   "cell_type": "markdown",
   "metadata": {},
   "source": [
    "![image.png](attachment:image.png)"
   ]
  },
  {
   "attachments": {
    "image.png": {
     "image/png": "[encoded data removed]"
    }
   },
   "cell_type": "markdown",
   "metadata": {},
   "source": [
    "![image.png](attachment:image.png)"
   ]
  },
  {
   "attachments": {
    "image.png": {
     "image/png": "[encoded data removed]"
    }
   },
   "cell_type": "markdown",
   "metadata": {},
   "source": [
    "![image.png](attachment:image.png)"
   ]
  },
  {
   "cell_type": "markdown",
   "metadata": {},
   "source": [
    "Этот код реализует асинхронный эхо-сервер, который:\n",
    "Обрабатывает клиентов в отдельных async-задачах.\n",
    "\n",
    "Поддерживает корректное завершение (graceful shutdown).\n",
    "\n",
    "Работает на asyncio без блокировки."
   ]
  },
  {
   "cell_type": "markdown",
   "metadata": {},
   "source": [
    "4."
   ]
  },
  {
   "cell_type": "code",
   "execution_count": null,
   "metadata": {},
   "outputs": [],
   "source": [
    "import asyncio\n",
    "import socket\n",
    "from typing import List, Set\n",
    "from asyncio import AbstractEventLoop\n",
    "from Bio.Seq import Seq\n",
    "\n",
    "# Функция проверки ДНК\n",
    "def is_valid_dna_sequence(sequence):\n",
    "    \"\"\"Проверяет, является ли последовательность допустимой ДНК.\"\"\"\n",
    "    # Допустимые символы IUPAC для ДНК (включая строчные буквы)\n",
    "    valid_chars = set(\"ACGTURYSWKMBDHVN\")\n",
    "    return all(char in valid_chars for char in sequence)\n",
    "\n",
    "active_tasks: Set[asyncio.Task] = set()\n",
    "\n",
    "class GracefulExit(SystemExit):\n",
    "    # Определяет собственное исключение GracefulExit, которое будет использоваться для корректной остановки сервера.\n",
    "    pass\n",
    "\n",
    "async def shutdown(loop: AbstractEventLoop):\n",
    "\n",
    "    \"\"\"Функция завершения работы сервера.\"\"\"\n",
    "\n",
    "    print(\"\\nПолучен сигнал завершения. Остановка сервера...\")\n",
    "\n",
    "    # Собирает все активные асинхронные задачи - asyncio.all_tasks()\n",
    "    tasks = [t for t in asyncio.all_tasks() if t is not asyncio.current_task()] \n",
    "    for task in tasks:\n",
    "        # Отправляет каждой задаче команду на отмену (task.cancel()).\n",
    "        task.cancel()\n",
    "    # Ждет завершения всех задач (asyncio.gather())    \n",
    "    await asyncio.gather(*tasks, return_exceptions=True) # tasks - список всех задач кроме текущей, return_exceptions=True позволяет игнорировать исключения при отмене задач\n",
    "\n",
    "    # Останавливает цикл событий\n",
    "    loop.stop()\n",
    "\n",
    "# Создадим сопрограмму echo, отвечающую за обработку данных, связанных с одним подключением. Получив данные, она будет отправлять их копию обратно клиенту.\n",
    "async def echo(connection: socket.socket, loop: AbstractEventLoop) -> None: # socket.socket сокет клиента, AbstractEventLoop - цикл событий\n",
    "    \"\"\"Обрабатывает клиента и эхо-ответ.\"\"\"\n",
    "    while data := await loop.sock_recv(connection, 1024): # sock_recv ждет поступления байтов в сокет.\n",
    "        message = data.decode().strip() # переменная, в которой содержится сообщение клиента\n",
    "\n",
    "        # проверка, является ли сообщение последовательностью ДНК\n",
    "        if is_valid_dna_sequence(message):\n",
    "            response = f'Это последовательность ДНК - {message}\\n'\n",
    "        else:\n",
    "            response = f'Не является последовательностью ДНК - {message}\\n'\n",
    "\n",
    "        await loop.sock_sendall(connection, response.encode()) # sock_sendall принимает сокет и данные, которые нужно отправить - response, после чего ждет, пока все данные будут отправлены\n",
    "\n",
    "async def listen_for_connection(server_socket: socket.socket, loop: AbstractEventLoop):\n",
    "\n",
    "    \"\"\"Ожидает входящие подключения.\"\"\"\n",
    "    while True:\n",
    "\n",
    "\n",
    "        connection, address = await loop.sock_accept(server_socket) # возвращает кортеж (структуру данных, в которой хранится упорядоченная последовательность значений), состоящий из сокета и адреса клиента.\n",
    "        connection.setblocking(False) # отключение блокировки для других клиентов\n",
    "        print(f\"Получен запрос на подключение от {address}\")\n",
    "\n",
    "        # После получения запроса на подключение создаем задачу echo, ожидающую данные от клиента\n",
    "        asyncio.create_task(echo(connection, loop))\n",
    "\n",
    "async def close_echo_tasks(echo_tasks: List[asyncio.Task]):\n",
    "    \"\"\"Закрывает все задачи с клиентами корректно.\"\"\"\n",
    "    # мы принимаем список задач echo и обертываем каждую из них задачей wait_for с двухсекундным тайм-аутом\n",
    "\n",
    "    waiters = [asyncio.wait_for(task, 2) for task in echo_tasks]\n",
    "    for task in waiters:\n",
    "        try:\n",
    "            await task # ожидаем все обернутые задачи с помощью await\n",
    "        except asyncio.exceptions.TimeoutError:\n",
    "            pass  # Игнорируем таймаут при завершении\n",
    "\n",
    "async def main():\n",
    "    \"\"\"Основная функция сервера.\"\"\"\n",
    "    server_socket = socket.socket(socket.AF_INET, socket.SOCK_STREAM)\n",
    "    server_socket.setsockopt(socket.SOL_SOCKET, socket.SO_REUSEADDR, 1) # функция, чтобы избежать проблем с повторным запуском\n",
    "    server_socket.setblocking(False) # неблокирующий\n",
    "    server_socket.bind(('127.0.0.1', 34563)) # привязывает сервер 127.0.0.1:34563\n",
    "    server_socket.listen() # слушает входящие подключения\n",
    "\n",
    "    loop = asyncio.get_running_loop() # текущий цикл\n",
    "\n",
    "    print(\"Сервер запущен на 127.0.0.1:3453\")\n",
    "\n",
    "    # Ожидание ввода пользователя для завершения\n",
    "    stop_event = asyncio.Event()\n",
    "    asyncio.create_task(listen_for_connection(server_socket, loop)) # запуск функции listen_for_connection(), чтобы обрабатывать клиентов\n",
    "    try:\n",
    "        await stop_event.wait()  # Ждет, пока не будет вызван shutdown\n",
    "    except asyncio.CancelledError:\n",
    "        pass\n",
    "    finally:\n",
    "        # закрывает сокет и вызывает shutdown()\n",
    "        server_socket.close()\n",
    "        await shutdown(loop)\n",
    "\n",
    "if __name__ == \"__main__\":\n",
    "    loop = asyncio.new_event_loop()\n",
    "    asyncio.set_event_loop(loop)\n",
    "\n",
    "    try:\n",
    "        loop.run_until_complete(main())\n",
    "    except KeyboardInterrupt:\n",
    "        print(\"\\nОстановка сервера...\")\n",
    "        loop.run_until_complete(shutdown(loop))\n",
    "    finally:\n",
    "        loop.close()\n",
    "        print(\"Сервер остановлен.\")"
   ]
  },
  {
   "attachments": {
    "image.png": {
     "image/png": "[encoded data removed]"
    }
   },
   "cell_type": "markdown",
   "metadata": {},
   "source": [
    "Результат:\n",
    "\n",
    "\n",
    "![image.png](attachment:image.png)"
   ]
  },
  {
   "attachments": {
    "image.png": {
     "image/png": "[encoded data removed]"
    }
   },
   "cell_type": "markdown",
   "metadata": {},
   "source": [
    "![image.png](attachment:image.png)"
   ]
  },
  {
   "attachments": {
    "image.png": {
     "image/png": "[encoded data removed]"
    }
   },
   "cell_type": "markdown",
   "metadata": {},
   "source": [
    "![image.png](attachment:image.png)\n",
    "\n",
    "1. Цикл событий запускает корутину main()\n",
    "\n",
    "2. В main() запускается корутина listen_for_connection, которая в ожидании новых подключений.\n",
    "\n",
    "\n",
    "3. Как только клиент подключается, listen_for_connection передает управление корутине echo(), которая будет отвечать на запросы клиента.\n",
    "\n",
    "\n",
    "4. Пока одна корутина (например, echo()) ждет ответа, цикл событий может переключиться на другие задачи.\n",
    "\n",
    "\n",
    "5. В случае завершения работы вызывается shutdown, который завершает все задачи и останавливает цикл событий."
   ]
  },
  {
   "cell_type": "markdown",
   "metadata": {},
   "source": [
    "<big>Вывод:</big>\n",
    "\n",
    "Был реализован простой асинхронно работающий сервер с возможностью множественного подключения, который в качестве запросов принимает последовательность символов длиной до 20 символов и возвращает ответ: является ли эта последовательность символов - последовательностью ДНК.\n"
   ]
  }
 ],
 "metadata": {
  "kernelspec": {
   "display_name": "Python 3",
   "language": "python",
   "name": "python3"
  },
  "language_info": {
   "codemirror_mode": {
    "name": "ipython",
    "version": 3
   },
   "file_extension": ".py",
   "mimetype": "text/x-python",
   "name": "python",
   "nbconvert_exporter": "python",
   "pygments_lexer": "ipython3",
   "version": "3.12.9"
  }
 },
 "nbformat": 4,
 "nbformat_minor": 2
}
